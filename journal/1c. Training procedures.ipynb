{
 "cells": [
  {
   "cell_type": "markdown",
   "id": "4c16e5f0",
   "metadata": {},
   "source": [
    "# 1c. Training procedures\n",
    "\n",
    "Now that I've got some backpropagation code, I can start training my net and check that it's actually learning. So the order of the day is:\n",
    "\n",
    "1. Fix net initialization process to use random weights and biases.\n",
    "2. Implement an abstract training procedure that takes a dataset and some training parameters (batch size, etc.) and "
   ]
  }
 ],
 "metadata": {
  "kernelspec": {
   "display_name": "Python 3 (ipykernel)",
   "language": "python",
   "name": "python3"
  },
  "language_info": {
   "codemirror_mode": {
    "name": "ipython",
    "version": 3
   },
   "file_extension": ".py",
   "mimetype": "text/x-python",
   "name": "python",
   "nbconvert_exporter": "python",
   "pygments_lexer": "ipython3",
   "version": "3.7.10"
  }
 },
 "nbformat": 4,
 "nbformat_minor": 5
}
