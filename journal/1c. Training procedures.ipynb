{
 "cells": [
  {
   "cell_type": "markdown",
   "id": "4c16e5f0",
   "metadata": {},
   "source": [
    "# 1c. Training procedures\n",
    "\n",
    "Now that I've got some backpropagation code, I can start training my net and check that it's actually learning. So the order of the day is:\n",
    "\n",
    "1. Fix net initialization process to use random weights and biases.\n",
    "2. Implement a general training procedure that takes a dataset, some training parameters (batch size, etc.) and the neural net to be trained, and applies the backpropagation code from the previous journal to train the net.\n",
    "3. Implement a general testing procedure to check how the training went.\n",
    "4. Try this all out on the iris dataset."
   ]
  },
  {
   "cell_type": "markdown",
   "id": "1476320c",
   "metadata": {},
   "source": [
    "## 1. Initialization\n",
    "\n",
    "Some sources I should have read previously on weight initialization, both from Jason Brownlee / Machine Learning Mastery:\n",
    "* [Why initialize a neural network with random weights?](https://machinelearningmastery.com/why-initialize-a-neural-network-with-random-weights/)\n",
    "* [Weight Initialization for Deep Learning Neural Networks](https://machinelearningmastery.com/weight-initialization-for-deep-learning-neural-networks/)\n",
    "\n",
    "Some standard methods to implement:\n",
    "* Weights pulled randomly from within a small range (e.g. -0.3 to 0.3 or 0 to 1)"
   ]
  },
  {
   "cell_type": "code",
   "execution_count": null,
   "id": "d9f3c3bc",
   "metadata": {},
   "outputs": [],
   "source": [
    "import random\n",
    "\n",
    "# Weight-picker functions for the methods above\n",
    "def uniform(alpha, beta):\n",
    "    def f():\n",
    "        return random.uniform(alpha, beta)\n",
    "    return f()\n",
    "\n",
    "# General initializer\n",
    "def initialize_weights(net, f):\n",
    "    for layer in net.layers[1:]:\n",
    "        for neuron in layer:\n",
    "            for \n"
   ]
  }
 ],
 "metadata": {
  "kernelspec": {
   "display_name": "Python 3 (ipykernel)",
   "language": "python",
   "name": "python3"
  },
  "language_info": {
   "codemirror_mode": {
    "name": "ipython",
    "version": 3
   },
   "file_extension": ".py",
   "mimetype": "text/x-python",
   "name": "python",
   "nbconvert_exporter": "python",
   "pygments_lexer": "ipython3",
   "version": "3.7.10"
  }
 },
 "nbformat": 4,
 "nbformat_minor": 5
}
